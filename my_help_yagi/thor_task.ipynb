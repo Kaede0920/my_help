{
 "cells": [
  {
   "cell_type": "markdown",
   "metadata": {},
   "source": [
    "# Rspecで振る舞いを調べる方法\n",
    "\n",
    "## Rspecとは\n",
    "\n",
    "プログラムの振る舞いを記述するためのDSLを提供するフレームワーク\n",
    "\n",
    "## thorのサブコマンドをテストする\n",
    "\n",
    "https://qiita.com/miya0001/items/f0d94ae144c85483354e\n",
    "\n",
    "spec_helper.rbに以下のメソッドを追加\n",
    "~~~ruby\n",
    "RSpec.configure do |config|\n",
    "  ...\n",
    "  ...\n",
    "\n",
    "  def capture(stream)\n",
    "    begin\n",
    "      stream = stream.to_s\n",
    "      eval \"$#{stream} = StringIO.new\"\n",
    "      yield\n",
    "      result = eval(\"$#{stream}\").string\n",
    "    ensure\n",
    "      eval(\"$#{stream} = #{stream.upcase}\")\n",
    "    end\n",
    "\n",
    "    result\n",
    "  end\n",
    "end\n",
    "~~~\n"
   ]
  },
  {
   "cell_type": "markdown",
   "metadata": {},
   "source": [
    "# ルボコップでコードを改善\n",
    "\n",
    "## auto correct\n",
    "rubocop my_help.rb\n",
    "\n",
    "1 file inspected, 175 offenses detected\n",
    "\n",
    "175個のoffensesが検出された．\n",
    "\n",
    "rubocop -aで一気に19まで減少．\n",
    "\n",
    "## 細かい修正\n",
    "\n",
    "・コメントアウトされているoptparse版のコマンドが怒られていたので削除\n",
    "19から14まで減少．\n",
    "\n",
    "・なんの説明もなしにいきなりclassの記述がされていると怒られたのでclassの説明を記述\n",
    "13に減少．\n",
    "\n",
    "・status,stderrの前にアンダーバーを付けろとの警告\n",
    "アンダーバーをつけることで9に減少．\n"
   ]
  },
  {
   "cell_type": "markdown",
   "metadata": {},
   "source": [
    "# Thorでサブコマンドを自動登録する方法\n",
    "\n"
   ]
  },
  {
   "cell_type": "code",
   "execution_count": null,
   "metadata": {},
   "outputs": [],
   "source": []
  },
  {
   "cell_type": "code",
   "execution_count": null,
   "metadata": {},
   "outputs": [],
   "source": []
  }
 ],
 "metadata": {
  "kernelspec": {
   "display_name": "Ruby 2.3.3",
   "language": "ruby",
   "name": "ruby"
  },
  "language_info": {
   "file_extension": ".rb",
   "mimetype": "application/x-ruby",
   "name": "ruby",
   "version": "2.3.3"
  }
 },
 "nbformat": 4,
 "nbformat_minor": 2
}
