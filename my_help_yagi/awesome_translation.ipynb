{
 "cells": [
  {
   "cell_type": "markdown",
   "metadata": {},
   "source": [
    "# Build Awesome Command Line Applications in Ruby"
   ]
  },
  {
   "cell_type": "markdown",
   "metadata": {},
   "source": [
    "# introduction\n",
    "\n",
    "グラフィカルユーザーインターフェース(GUI)はいろんな点で素晴らしいものです．\n",
    "冷たくまたたくカーソルの殺伐とした輝きよりも，\n",
    "GUIはとりわけ初心者にとても優しいものです．\n",
    "でも，それには犠牲が伴います．GUIの熟練者になるには，奥義のようなキーボードショートカットを学ぶ必要があります．\n",
    "そうだとしても，あなたは生産性と効率の限界にぶち当たります．\n",
    "GUIはスクリプトして自動化しにくいことで悪名高いし，それができたとしても，あなたのスクリプトは移植しにくい傾向にあります．\n",
    "\n",
    "でも，これらすべては問題から外れています．私たちはソフトウェア開発者であり，プログラムを書いています．我々が仕事を終わらせるのに，コードを使うことよりも自然なものがあるでしょうか．次のコマンドシーケンスで考えてみましょう．\n",
    "```bash\n",
    "> cd ~/Projects/cli\n",
    "> vi chapter2.md\n",
    "```\n",
    "あなたはこの２つのコマンドを曖昧だと感じるかもしれませんが，これらはファイルを編集するとても効果的な方法です．\n"
   ]
  },
  {
   "cell_type": "markdown",
   "metadata": {},
   "source": [
    "私のキャリアの大半では，コマンドラインというとbashのようなUNIXシェルを意味していました． \n",
    "bashシェルはいくつかの基本的な組み込みコマンドを提供してくれます．\n",
    "さらには，UNIXシステムに同封されている他の基本的な（もしくは基本的ではない）コマンドへもアクセス可能にしてくれます．\n",
    "これらのコマンドは単一目標のものであり，ユーザーとの相互作用を必要としません．\n",
    "だけど，使いやすい（けど覚えにくい）ユーザーインターフェイスを伴っています．\n",
    "これらの特性によって，無限に近い方法で，それらをつなぎ合わせることができます．\n",
    "洗練された振る舞いの自動化，複雑な解析の実行，そして無数のテキストファイルの構文解析を，簡単にしかも間にあわせで可能にしてくれます．\n",
    "これは私のキャリアの初期の頃の人生そのものでした．\n",
    "そしてそれは良いものでした．"
   ]
  },
  {
   "cell_type": "markdown",
   "metadata": {},
   "source": [
    "1990年代半ば，Javaが人気になるに連れて，UNIXコマンドラインユーティリティーをつなぎ合わせて何かをするというアイデアは古代のものと見られるようになってしまいました．\n",
    "Javaのプログラムはシンプルなテキストベースの形を避けて，RPCによって動かされるXMLの複雑な階層構造を使ったファイルベースのインプットアウトプット（I/O）やHTTP I/Oを推奨しました．\n",
    "これのおかげでとても洗練されたシステムの構築が可能となりました．\n",
    "これらのシステムを組み立てたり設計したりする複雑さを抽象化して，GUIの道具が突然現れました．\n",
    "コードを書いたり組み立てたりするという行為でさえ，もっと複雑な統合開発環境（IDEs）に飲み込まれてしまいました．\n",
    "コマンドラインの単純さは失われ始めました．"
   ]
  },
  {
   "cell_type": "markdown",
   "metadata": {},
   "source": [
    "問題は，これらのツールのモデルに適していないタスクがたくさんあることです．シェルに移ったり何かをしたりするのはとてつもなく簡単です．なので，私はIDEsや洗練されたGUIツールはコマンドラインの進歩であるという考えに賛成しない間，人生の事実と仲直りをし，快適な型に収まりました．Javaは「本物の」コードのためのもので，コマンドラインは（PerlやRubyも）自動操作で，一度限りのスクリプトであり，繰り返しの作業を早く終わらせることを助けてくれました．\n",
    "\n",
    "2000年代半ば，私はRuby，Rails，素晴らしいコミュニティがそれらのツールのまわりで築き上げられていることに気づき始めました．驚くべきことに（そして嬉しいことに），ほとんど全てのことはコマンドラインで動かせたのです．Rubyのような動的言語はIDEsにうまく適応できません（IDEはそのような言語では理解できないと議論する人もいました）．そして急成長する開発者のコミュニティはツール製作のプロにとって重要なことではありませんでした．そのコミュニティはコマンドラインを取り入れ，全てのコマンドラインアプリケーションを作っていました．Perlはこれを何年もしていましたが，「ポストJava」の世界のコマンドラインとの強い抱擁にこの時初めて気づきました．\n",
    "\n",
    "もっと面白いことは，これらのコマンドラインアプリの中に味や光沢が入っていることです．ほとんどの機能はコマンドベースの機能ナビゲーションを備えた本格的なヘルプシステムを特色としていましたが，単純さと相互運用性という \"UNIXの方法\"には依然として忠実でした．gemを例にあげて見ます．次の例はあなたのシステムに他のRubyのアプリケーションとライブラリをインストールするコマンドです．\n",
    "\n",
    "```\n",
    ">$ gem help\n",
    ">RubyGems is a sophisticated package manager for Ruby. This >\n",
    "is a basic help message containing pointers to more information.\n",
    "\n",
    "> Usage:\n",
    ">    gem -h/--help\n",
    ">    gem -v/--version\n",
    ">    gem command [arguments...] [options...]\n",
    ">Examples:\n",
    ">    gem install rake\n",
    ">    gem list --local\n",
    ">    gem build package.gemspec\n",
    ">    gem help install\n",
    ">Further help:\n",
    ">    gem help commands          list all 'gem' commands\n",
    ">    gem help examples          show some examples of usage\n",
    ">    gem help platforms         show information about platforms\n",
    ">    gem help <COMMAND>           show help on COMMAND\n",
    ">                             (e.g. 'gem help install')\n",
    ">gem server                   present a web page at\n",
    ">                             http://localhost:8808/\n",
    ">                             with info about installed gems\n",
    ">  Further information:\n",
    ">    http://rubygems.rubyforge.org\n",
    "```"
   ]
  },
  {
   "cell_type": "markdown",
   "metadata": {},
   "source": [
    "これは利用可能な完全なドキュメントのほんの一部分に過ぎず，全てそこにあるものです．このツールを洗練されたものにするためにたくさんの考えが用いられていることは明らかです．これは一度限りのことではなく，洗練されていないスクリプトでした．Ruby on Railsの設計理念と同じように，プログラマーのユーザー体験には明確な注意が払われていました．これらのツールは誰かが結合した一度限りのスクリプトではありません．「本当の」仕事のために作られました．\n",
    "\n",
    "これが私に教えてくれたことは，コマンドラインはJavaツールの業者が私たちに信じさせたような時代遅れのものなどではないということです．それはここにあります．開発の未来は，ボタンやツールバーを操作したり，アイコンをドラッグアンドドロップしてコードを作成するだけでなくなるでしょう．コマンドラインインターフェイス固有の能率，生産性というのはいつも良い開発者の道具箱の中にあるでしょう．コマンドラインツールに使いやすさや洗練されたものを要求する開発者もいれば，それを届けることに興味を持つ開発者もいます！\n",
    "\n",
    "この本の内容は，素晴らしいコマンドラインアプリケーションを届けること（そしてRubyでそれをするのがどれほど簡単かということ）．コマンドラインインターフェイスのポテンシャルを解放したいプログラマーや，簡単に理解できて使用できる実際のユーザーインターフェイスを備えた洗練された堅牢なアプリケーションを作りたいプログラマーのために．"
   ]
  },
  {
   "cell_type": "code",
   "execution_count": null,
   "metadata": {
    "collapsed": true
   },
   "outputs": [],
   "source": []
  },
  {
   "cell_type": "code",
   "execution_count": null,
   "metadata": {
    "collapsed": true
   },
   "outputs": [],
   "source": []
  }
 ],
 "metadata": {
  "kernelspec": {
   "display_name": "Ruby 2.2.2",
   "language": "ruby",
   "name": "ruby"
  },
  "language_info": {
   "file_extension": ".rb",
   "mimetype": "application/x-ruby",
   "name": "ruby",
   "version": "2.2.2"
  },
  "latex_envs": {
   "LaTeX_envs_menu_present": true,
   "autocomplete": true,
   "bibliofile": "biblio.bib",
   "cite_by": "apalike",
   "current_citInitial": 1,
   "eqLabelWithNumbers": true,
   "eqNumInitial": 1,
   "hotkeys": {
    "equation": "Ctrl-E",
    "itemize": "Ctrl-I"
   },
   "labels_anchors": false,
   "latex_user_defs": false,
   "report_style_numbering": false,
   "user_envs_cfg": false
  },
  "toc": {
   "colors": {
    "hover_highlight": "#DAA520",
    "navigate_num": "#000000",
    "navigate_text": "#333333",
    "running_highlight": "#FF0000",
    "selected_highlight": "#FFD700",
    "sidebar_border": "#EEEEEE",
    "wrapper_background": "#FFFFFF"
   },
   "moveMenuLeft": true,
   "nav_menu": {},
   "navigate_menu": true,
   "number_sections": true,
   "sideBar": true,
   "skip_h1_title": false,
   "threshold": 4,
   "toc_cell": false,
   "toc_position": {},
   "toc_section_display": "block",
   "toc_window_display": false,
   "widenNotebook": false
  }
 },
 "nbformat": 4,
 "nbformat_minor": 2
}
