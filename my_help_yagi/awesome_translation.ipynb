{
 "cells": [
  {
   "cell_type": "markdown",
   "metadata": {},
   "source": [
    "# Build Awesome Command Line Applications in Ruby"
   ]
  },
  {
   "cell_type": "markdown",
   "metadata": {},
   "source": [
    "# introduction\n",
    "\n",
    "グラフィカルユーザーインターフェース(GUI)はいろんな点で素晴らしい．\n",
    "冷たく瞬くカーソルの荒涼とした輝きよりも，\n",
    "それらはとりわけ初心者にとても優しいものとなっています．\n",
    "それには犠牲が伴います．奥義のようなキーボードショートカットを学ぶよりも先にGUIの熟練者になります．\n",
    "その場合でさえ，あなたは生産性と効率の限界にぶち当たります．\n",
    "GUIはスクリプトして自動化しにくいことで悪名高いが，それができたとしても，あなたのスクリプトは移植しにくい傾向にあります．\n",
    "\n",
    "私たちはソフトウェア開発者であり，プログラムを書いている．仕事を終わらせるためにコードを使うことよりも自然なものは何か．次のコマンドシーケンスで考えてみよう．\n",
    "\n",
    "> cd ~/Projects/cli\n",
    "\n",
    "> vi chapter2.md\n",
    "\n",
    "この２つのコマンドは曖昧だが，とても効果的にファイルをエディットしていく．私のキャリアにおいて，コマンドラインはbashのようなUNIXシェルを意味していた． bashは基本的な組み込みコマンドを提供してくれると同時に，UNIXのシステムと一緒についている基本的な（もしくは基本的ではない）コマンドも利用可能にしてくれる．これらのコマンドは専用のものであり，ユーザーとの意思疎通を必要としない．また，使いやすい（けど覚えにくい）ユーザーインターフェイスを搭載している．これらの特性のおかげで大量の方法をまとめることができる．自動的に洗練された振る舞い，複雑な解析，そして無数のテキストファイルの解析が簡単に功利的にすることを可能にする．\n",
    "\n",
    "1990年代半ば，Java人気になるに連れて，UNIXコマンドラインをつなぎ合わせるアイデアは廃れていった． Javaのプログラムはシンプルなテキストベースの形と，RPCやHTTP I/Oによって動かされるXMLの複雑な階層構造のためのファイルベースのインプットアウトプットを避けていた．これのおかげで洗練されたシステムが作成でき，GUIツールは設計の複雑さを無視して生成される．コードを書いたり設計するという行為でさえ，複雑なIDEsによって飲み込まれてしまった．\n",
    "\n",
    "問題は，これらのツールのモデルに適していないタスクがたくさんあることである．IDEsや洗練されたGUIツールはコマンドラインの進歩であるという考えに賛成するまでの間，私は人生の事実と仲直りをし，快適なパターンに定着した．Javaは「本物の」コードで，そのコマンドラインは（PerlやRubyも）自動操作で，一度限りのスクリプトであり，繰り返しの作業を早く終わらせることができた．\n",
    "\n",
    "2000年代半ば，私はRuby，Rails，素晴らしいコミュニティがそれらのツールのまわりで築き上げられていることに気づき始めた．驚くべきことに（そして嬉しいことに），ほとんど全てのことはコマンドラインで動いている．Rubyのような動的言語はIDEsにうまく適応できない（IDEsはそのような言語では理解できないと議論する人もいた）．そして急成長する開発者のコミュニティはツール製作のプロにとって重要なことではなかった．そのコミュニティはコマンドラインとコマンドラインアプリケーションの全てを含んでいた．Perlはこれを何年もしていたが，私は初めてポストJavaの世界のコマンドラインを受け入れに気づいたのである．\n",
    "\n",
    "もっと面白いことは，これらのコマンドラインアプリの中に味や光沢が入っていることである．一番の特徴である本格的なヘルプシステム，よくコマンドベースのナビゲーションと一緒にあげられる，しかしまだ簡単さと共通運用性の「UNIX way」は正確である．例えばgem．次の例はあなたのシステムにRubyのアプリとライブラリをインストールするコマンドである．\n",
    "\n",
    ">$ gem help\n",
    "\n",
    ">RubyGems is a sophisticated package manager for Ruby. This >\n",
    "is a basic help message containing pointers to more information.\n",
    "\n",
    "\n",
    "> Usage:\n",
    " \n",
    ">    gem -h/--help\n",
    "    \n",
    ">    gem -v/--version\n",
    "    \n",
    ">    gem command [arguments...] [options...]\n",
    "    \n",
    ">Examples:\n",
    "\n",
    ">    gem install rake\n",
    "  \n",
    ">    gem list --local\n",
    "  \n",
    ">    gem build package.gemspec\n",
    "  \n",
    ">    gem help install\n",
    "\n",
    ">Further help:\n",
    "\n",
    ">    gem help commands          list all 'gem' commands\n",
    "  \n",
    ">    gem help examples          show some examples of usage\n",
    "  \n",
    ">    gem help platforms         show information about platforms\n",
    "  \n",
    ">    gem help <COMMAND>           show help on COMMAND\n",
    "\n",
    ">                             (e.g. 'gem help install')\n",
    "\n",
    ">gem server                   present a web page at\n",
    ">                             http://localhost:8808/\n",
    ">                             with info about installed gems\n",
    "\n",
    ">  Further information:\n",
    "  \n",
    ">    http://rubygems.rubyforge.org\n",
    "\n",
    "これは完全なドキュメントのほんの一部分に過ぎない．このツールを洗練されたものにするためにたくさんの考えが用いられていることは明らかである．Ruby on Railsの設計理念にはプログラマーのユーザー体験から得られるはっきりした配慮がある．これらのツールは誰かに組み立てられる一度限りのスクリプトではない．\n",
    "\n",
    "ここで私が言いたいことは，コマンドラインは時代遅れのものなどではないということである．将来，開発というものはボタンやツールバーやアイコンのドラッグやドロップで操作するものではなくなっているだろう．コマンドラインインターフェイス固有の能率，生産性というのはいつも良い開発者の道具箱の中にあるのである．コマンドラインツールに便利さや洗練されたものを要求する開発者もいれば，\n",
    "それを届けることに興味を持つ開発者もいる．\n",
    "\n",
    "この本の内容は，素晴らしいコマンドラインアプリケーションを届けること（そしてRubyでそれをするのがどれほど簡単かということ）．コマンドラインインターフェイスのポテンシャルを解放したかったり，簡単に理解して使用できる本物のインターフェイスとして洗練された強いアプリケーションを作りたかったりする全てのプログラマーのために．\n"
   ]
  },
  {
   "cell_type": "code",
   "execution_count": null,
   "metadata": {
    "collapsed": true
   },
   "outputs": [],
   "source": []
  },
  {
   "cell_type": "code",
   "execution_count": null,
   "metadata": {
    "collapsed": true
   },
   "outputs": [],
   "source": []
  }
 ],
 "metadata": {
  "kernelspec": {
   "display_name": "Ruby 2.2.2",
   "language": "ruby",
   "name": "ruby"
  },
  "language_info": {
   "file_extension": ".rb",
   "mimetype": "application/x-ruby",
   "name": "ruby",
   "version": "2.2.2"
  },
  "latex_envs": {
   "LaTeX_envs_menu_present": true,
   "autocomplete": true,
   "bibliofile": "biblio.bib",
   "cite_by": "apalike",
   "current_citInitial": 1,
   "eqLabelWithNumbers": true,
   "eqNumInitial": 1,
   "hotkeys": {
    "equation": "Ctrl-E",
    "itemize": "Ctrl-I"
   },
   "labels_anchors": false,
   "latex_user_defs": false,
   "report_style_numbering": false,
   "user_envs_cfg": false
  },
  "toc": {
   "colors": {
    "hover_highlight": "#DAA520",
    "navigate_num": "#000000",
    "navigate_text": "#333333",
    "running_highlight": "#FF0000",
    "selected_highlight": "#FFD700",
    "sidebar_border": "#EEEEEE",
    "wrapper_background": "#FFFFFF"
   },
   "moveMenuLeft": true,
   "nav_menu": {},
   "navigate_menu": true,
   "number_sections": true,
   "sideBar": true,
   "skip_h1_title": false,
   "threshold": 4,
   "toc_cell": false,
   "toc_position": {},
   "toc_section_display": "block",
   "toc_window_display": false,
   "widenNotebook": false
  }
 },
 "nbformat": 4,
 "nbformat_minor": 2
}
