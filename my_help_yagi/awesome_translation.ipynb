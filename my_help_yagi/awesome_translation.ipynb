{
 "cells": [
  {
   "cell_type": "markdown",
   "metadata": {},
   "source": [
    "# Build Awesome Command Line Applications in Ruby"
   ]
  },
  {
   "cell_type": "markdown",
   "metadata": {},
   "source": [
    "# introduction\n",
    "\n",
    "グラフィカルユーザーインターフェース(GUI)はいろんな点で素晴らしいものです．\n",
    "冷たく瞬くカーソルの荒涼とした輝きよりも，\n",
    "それらはとりわけ初心者にとても優しいものとなっています．\n",
    "それには犠牲が伴います．奥義のようなキーボードショートカットを学ぶよりも先にGUIの熟練者になります．\n",
    "その場合でさえ，あなたは生産性と効率の限界にぶち当たります．\n",
    "GUIはスクリプトして自動化しにくいことで悪名高いが，それができたとしても，あなたのスクリプトは移植しにくい傾向にあります．\n",
    "\n",
    "これは論点から外れていますが，私たちはソフトウェア開発者であり，プログラムを書いています．仕事を終わらせるためにコードを使うことよりも自然なものは何か．次のコマンドシーケンスで考えてみましょう．\n",
    "\n",
    "> cd ~/Projects/cli\n",
    "\n",
    "> vi chapter2.md\n",
    "\n",
    "あなたはこの２つのコマンドを曖昧だと感じるかもしれませんが，これらはとても効果的にファイルをエディットする方法です．私のキャリアの大半では，コマンドラインというとbashのようなUNIXシェルを意味していました． bashシェルはいくつかの基本的な組み込みコマンドを提供してくれると同時に，UNIXのシステムに標準搭載されている基本的な（もしくは基本的ではない）コマンドも利用可能にしてくれます．これらのコマンドは専用のものであり，ユーザーとの相互作用を必要としません．また，使いやすい（けど覚えにくい）ユーザーインターフェイスを搭載しています．これらの特性のおかげで大量の方法をつなぎ合わせることができます．自動的で洗練された振る舞い，高性能で複雑な解析，そして無数のテキストファイルの構文解析を簡単に便宜的にすることが可能になります．これは私のキャリアの初期の頃の人生そのものでした．そしてそれは良いものでした．\n",
    "\n",
    "1990年代半ば，Javaが人気になるに連れて，UNIXコマンドラインユーティリティーをつなぎ合わせて何かをするというアイデアは古いものとして見られるようになってしまいました．Javaのプログラムはシンプルなテキストベースの形と，RPCによって動かされるXMLの複雑な階層構造のためのファイルベースのインプットアウトプット（I/O）やHTTP I/Oを避けていました．これのおかげでとても洗練されたシステムが作成でき，組み立てや設計の複雑さを無視してGUIを生成することができます．コードを書いたり組み立てたりするという行為でさえ，もっと複雑な統合開発環境（IDEs）によって飲み込まれてしまいました．コマンドラインの単純さは失われ始めました．\n",
    "\n",
    "問題は，これらのツールのモデルに適していないタスクがたくさんあることです．シェルに移ったり何かをしたりするのはとてつもなく簡単です．なので，私はIDEsや洗練されたGUIツールはコマンドラインの進歩であるという考えに賛成しない間，人生の事実と仲直りをし，快適な型に収まりました．Javaは「本物の」コードのためのもので，コマンドラインは（PerlやRubyも）自動操作で，一度限りのスクリプトであり，繰り返しの作業を早く終わらせることを助けてくれました．\n",
    "\n",
    "2000年代半ば，私はRuby，Rails，素晴らしいコミュニティがそれらのツールのまわりで築き上げられていることに気づき始めました．驚くべきことに（そして嬉しいことに），ほとんど全てのことはコマンドラインで動かせたのです．Rubyのような動的言語はIDEsにうまく適応できません（IDEはそのような言語では理解できないと議論する人もいました）．そして急成長する開発者のコミュニティはツール製作のプロにとって重要なことではありませんでした．そのコミュニティはコマンドラインを取り入れ，全てのコマンドラインアプリケーションを作っていました．Perlはこれを何年もしていましたが，「ポストJava」の世界のコマンドラインとの強い抱擁にこの時初めて気づきました．\n",
    "\n",
    "もっと面白いことは，これらのコマンドラインアプリの中に味や光沢が入っていることです．ほとんどの機能はコマンドベースの機能ナビゲーションを備えた本格的なヘルプシステムを特色としていましたが，単純さと相互運用性という \"UNIXの方法\"には依然として忠実でした．gemを例にあげて見ます．次の例はあなたのシステムに他のRubyのアプリケーションとライブラリをインストールするコマンドです．\n",
    "\n",
    ">$ gem help\n",
    "\n",
    ">RubyGems is a sophisticated package manager for Ruby. This >\n",
    "is a basic help message containing pointers to more information.\n",
    "\n",
    "\n",
    "> Usage:\n",
    " \n",
    ">    gem -h/--help\n",
    "    \n",
    ">    gem -v/--version\n",
    "    \n",
    ">    gem command [arguments...] [options...]\n",
    "    \n",
    ">Examples:\n",
    "\n",
    ">    gem install rake\n",
    "  \n",
    ">    gem list --local\n",
    "  \n",
    ">    gem build package.gemspec\n",
    "  \n",
    ">    gem help install\n",
    "\n",
    ">Further help:\n",
    "\n",
    ">    gem help commands          list all 'gem' commands\n",
    "  \n",
    ">    gem help examples          show some examples of usage\n",
    "  \n",
    ">    gem help platforms         show information about platforms\n",
    "  \n",
    ">    gem help <COMMAND>           show help on COMMAND\n",
    "\n",
    ">                             (e.g. 'gem help install')\n",
    "\n",
    ">gem server                   present a web page at\n",
    ">                             http://localhost:8808/\n",
    ">                             with info about installed gems\n",
    "\n",
    ">  Further information:\n",
    "  \n",
    ">    http://rubygems.rubyforge.org\n",
    "\n",
    "これは利用可能な完全なドキュメントのほんの一部分に過ぎず，全てそこにあるものです．このツールを洗練されたものにするためにたくさんの考えが用いられていることは明らかです．これは一度限りのことではなく，洗練されていないスクリプトでした．Ruby on Railsの設計理念と同じように，プログラマーのユーザー体験には明確な注意が払われていました．これらのツールは誰かが結合した一度限りのスクリプトではありません．「本当の」仕事のために作られました．\n",
    "\n",
    "これが私に教えてくれたことは，コマンドラインはJavaツールの業者が私たちに信じさせたような時代遅れのものなどではないということです．それはここにあります．開発の未来は，ボタンやツールバーを操作したり，アイコンをドラッグアンドドロップしてコードを作成するだけでなくなるでしょう．コマンドラインインターフェイス固有の能率，生産性というのはいつも良い開発者の道具箱の中にあるでしょう．コマンドラインツールに使いやすさや洗練されたものを要求する開発者もいれば，それを届けることに興味を持つ開発者もいます！\n",
    "\n",
    "この本の内容は，素晴らしいコマンドラインアプリケーションを届けること（そしてRubyでそれをするのがどれほど簡単かということ）．コマンドラインインターフェイスのポテンシャルを解放したいプログラマーや，簡単に理解できて使用できる実際のユーザーインターフェイスを備えた洗練された堅牢なアプリケーションを作りたいプログラマーのために．\n"
   ]
  },
  {
   "cell_type": "code",
   "execution_count": null,
   "metadata": {
    "collapsed": true
   },
   "outputs": [],
   "source": []
  },
  {
   "cell_type": "code",
   "execution_count": null,
   "metadata": {
    "collapsed": true
   },
   "outputs": [],
   "source": []
  }
 ],
 "metadata": {
  "kernelspec": {
   "display_name": "Ruby 2.3.3",
   "language": "ruby",
   "name": "ruby"
  },
  "language_info": {
   "file_extension": ".rb",
   "mimetype": "application/x-ruby",
   "name": "ruby",
   "version": "2.3.3"
  },
  "latex_envs": {
   "LaTeX_envs_menu_present": true,
   "autocomplete": true,
   "bibliofile": "biblio.bib",
   "cite_by": "apalike",
   "current_citInitial": 1,
   "eqLabelWithNumbers": true,
   "eqNumInitial": 1,
   "hotkeys": {
    "equation": "Ctrl-E",
    "itemize": "Ctrl-I"
   },
   "labels_anchors": false,
   "latex_user_defs": false,
   "report_style_numbering": false,
   "user_envs_cfg": false
  },
  "toc": {
   "nav_menu": {},
   "number_sections": true,
   "sideBar": true,
   "skip_h1_title": false,
   "toc_cell": false,
   "toc_position": {},
   "toc_section_display": "block",
   "toc_window_display": false
  }
 },
 "nbformat": 4,
 "nbformat_minor": 2
}
