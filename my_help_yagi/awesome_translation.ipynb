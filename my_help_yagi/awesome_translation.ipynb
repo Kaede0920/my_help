{
 "cells": [
  {
   "cell_type": "markdown",
   "metadata": {},
   "source": [
    "# Build Awesome Command Line Applications in Ruby"
   ]
  },
  {
   "cell_type": "markdown",
   "metadata": {},
   "source": [
    "# introduction\n",
    "\n",
    "GUIはいろんな点で素晴らしく，一般的に初心者に優しいものとなっている．難解なキーボードショートカットを学ぶよりも先にGUIの熟練者になる．その場合，あなたは生産性と効率の限界にぶち当たる．GUIは自動化しにくいことで悪名高いが，それができたとき，スクリプトは携帯できなくなる傾向にある．\n",
    "\n",
    "私たちはソフトウェア開発者であり，プログラムを書いている．仕事を終わらせるためにコードを使うことよりも自然なものは何か．次のコマンドシーケンスで考えてみよう．\n",
    "\n",
    "> cd ~/Projects/cli\n",
    "\n",
    "> vi chapter2.md\n",
    "\n",
    "この２つのコマンドは曖昧だが，とても効果的にファイルをエディットしていく．私のキャリアにおいて，コマンドラインはbashのようなUNIXシェルを意味していた． bashは基本的な組み込みコマンドを提供してくれると同時に，UNIXのシステムと一緒についている基本的な（もしくは基本的ではない）コマンドも利用可能にしてくれる．これらのコマンドは専用のものであり，ユーザーとの意思疎通を必要としない．また，使いやすい（けど覚えにくい）ユーザーインターフェイスを搭載している．これらの特性のおかげで大量の方法をまとめることができる．自動的に洗練された振る舞い，複雑な解析，そして無数のテキストファイルの解析が簡単に功利的にすることを可能にする．\n",
    "\n",
    "1990年代半ば，Java人気になるに連れて，UNIXコマンドラインをつなぎ合わせるアイデアは廃れていった． Javaのプログラムはシンプルなテキストベースの形と，RPCやHTTP I/Oによって動かされるXMLの複雑な階層構造のためのファイルベースのインプットアウトプットを避けていた．これのおかげで洗練されたシステムが作成でき，GUIツールは設計の複雑さを無視して生成される．コードを書いたり設計するという行為でさえ，複雑なIDEsによって飲み込まれてしまった．\n",
    "\n",
    "問題は，これらのツールのモデルに適していないタスクがたくさんあることである．IDEsや洗練されたGUIツールはコマンドラインの進歩であるという考えに賛成するまでの間，私は人生の事実と仲直りをし，快適なパターンに定着した．Javaは「本物の」コードで，そのコマンドラインは（PerlやRubyも）自動操作で，一度限りのスクリプトであり，繰り返しの作業を早く終わらせることができた．"
   ]
  },
  {
   "cell_type": "code",
   "execution_count": null,
   "metadata": {
    "collapsed": true
   },
   "outputs": [],
   "source": []
  }
 ],
 "metadata": {
  "kernelspec": {
   "display_name": "Ruby 2.3.3",
   "language": "ruby",
   "name": "ruby"
  },
  "language_info": {
   "file_extension": ".rb",
   "mimetype": "application/x-ruby",
   "name": "ruby",
   "version": "2.3.3"
  },
  "toc": {
   "nav_menu": {},
   "number_sections": true,
   "sideBar": true,
   "skip_h1_title": false,
   "toc_cell": false,
   "toc_position": {},
   "toc_section_display": "block",
   "toc_window_display": false
  }
 },
 "nbformat": 4,
 "nbformat_minor": 2
}
