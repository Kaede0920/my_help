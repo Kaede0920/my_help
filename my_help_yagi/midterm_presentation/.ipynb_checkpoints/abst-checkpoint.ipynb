{
 "cells": [
  {
   "cell_type": "markdown",
   "metadata": {},
   "source": [
    "コマンドツール作成ライブラリ Thor による my help の書き換え 情報科学科 27014534 大八木利治"
   ]
  },
  {
   "cell_type": "markdown",
   "metadata": {},
   "source": [
    "# 背景\n",
    "my help とはユーザー独自のマニュアルを作成することが できるユーザメモソフトである.これは terminal だけを用い て簡単に起動，編集，削除などをすることができるため，非 常に便利である.さらに，そのマニュアルは自分ですぐに編 集，参照することができるので，メモとしての機能も果たし ている.これにより，プログラミング初心者が，頻繁に使う コマンドやキーバインドなどをいちいち web browser を立ち 上げて調べるのではなく，terminal 上で即座に取得できるた め，プログラム開発を集中することが期待される.\n",
    "しかし，my help にある問題のうちの一つとして挙げられ るのがサブコマンドの記述法である.\n",
    "my help の振る舞いを制御しているサブコマンドは，マイ ナスを付した省略記法が取られている.プログラミング初 心者にとってこの省略記法は，覚えにくかったりわかりにく かったりするという問題があり，現在はフルワードを使った 自然言語に近い記述法が多く用いられている.\n",
    "そこで，本研究ではコマンドラインツール作成ライブラリ を自然言語に近いサブコマンド体系を実装しやすいライブラ リである Thor に変更する.ruby の標準ライブラリである optparse で作成されている my help を，Thor[1] によって書 き直し，異なった 2 つライブラリで作成された my help の使 用感を比較検討することを目的とする."
   ]
  },
  {
   "cell_type": "markdown",
   "metadata": {},
   "source": [
    "# optparse について\n",
    "今回の研究対象の my help は，optparse で実装されてい る.optparse が操作するオプションは，下記の on メソッド で設定する.\n",
    "```\n",
    "def execute\n",
    "@argv << ’--help’ if @argv.size==0 command_parser = OptionParser.new do |opt|\n",
    "opt.on(’-v’, ’--version’,’show␣program␣Version.’ ) { |v|\n",
    "opt.version = MyHelp::VERSION puts opt.ver\n",
    "}\n",
    "opt.on(’-l’, ’--list’, ’list␣specific␣helps’){\n",
    "list_helps}\n",
    "中略\n",
    "def list_helps\n",
    "中略\n",
    "end\n",
    "後略\n",
    "```\n",
    "第 1 引数はショートオプションで，-a や -d のように設定する.同様にして，第 2 引数はロングオプションを表し，–add や –delete のように，第 3 引数はそのオプションの説明文で， help で表示される説明文を設定する.後ろのブロックには， そのオプションが指定された場合に実行されるコードを記述 する [2].しかしこのライブラリでは自然言語に近いサブコマ ンドを実装するには相当な書き換えが必要となる.\n"
   ]
  },
  {
   "cell_type": "markdown",
   "metadata": {},
   "source": [
    "# Thor について\n",
    "\n",
    "本研究では optparse の代わりのライブラリとして Thor の 採用を検討する.Thor は，コマンドラインツールの作成を支 援するライブラリであり，git や bundler のようにサブコマン ドを含むコマンドラインツールを簡単に作成することができ る [3].Thor には以下のような特徴がある.\n",
    "1. コマンドラインオプションのパーズやサブコマンドごと のヘルプを作るなどの面倒な作業を簡単にこなすことが でき，手早くビルドツールや実行可能なコマンドを作成 できる [4].\n",
    "2. 特殊な DSL (Domain Specific Language)を使わずに メソッドを定義することで処理を記述するため，テスト を行いやすい [4].\n",
    "3. optparse では作成することが困難な，マイナスを伴わな い(自然言語に近い)サブコマンドを実装することが可 能である."
   ]
  },
  {
   "cell_type": "markdown",
   "metadata": {},
   "source": [
    "# 展望\n",
    "cli の option を parse する toolbox のランキングサイトに よると high line がもっともスコアが高い [5].highline でも 書き換えを行い，コード量およびコマンドの使いやすさ，覚 えやすさといった使用感についての比較検討を行う"
   ]
  },
  {
   "cell_type": "code",
   "execution_count": null,
   "metadata": {},
   "outputs": [],
   "source": []
  }
 ],
 "metadata": {
  "kernelspec": {
   "display_name": "Ruby 2.3.3",
   "language": "ruby",
   "name": "ruby"
  },
  "language_info": {
   "file_extension": ".rb",
   "mimetype": "application/x-ruby",
   "name": "ruby",
   "version": "2.3.3"
  }
 },
 "nbformat": 4,
 "nbformat_minor": 2
}
