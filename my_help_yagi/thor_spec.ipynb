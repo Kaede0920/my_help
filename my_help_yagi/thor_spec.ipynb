{
 "cells": [
  {
   "cell_type": "markdown",
   "metadata": {
    "toc": "true"
   },
   "source": [
    "# Table of Contents\n",
    " <p><div class=\"lev1 toc-item\"><a href=\"#spec作成\" data-toc-modified-id=\"spec作成-1\"><span class=\"toc-item-num\">1&nbsp;&nbsp;</span>spec作成</a></div><div class=\"lev1 toc-item\"><a href=\"#問題点（thor版my_help）\" data-toc-modified-id=\"問題点（thor版my_help）-2\"><span class=\"toc-item-num\">2&nbsp;&nbsp;</span>問題点（thor版my_help）</a></div>"
   ]
  },
  {
   "cell_type": "markdown",
   "metadata": {},
   "source": [
    "# spec作成\n",
    "thor版my_helpのspecを作成"
   ]
  },
  {
   "cell_type": "markdown",
   "metadata": {},
   "source": [
    "```ruby\n",
    "# -*- coding: utf-8 -*-                                                                                         \n",
    "require \"./spec_helper.rb\"\n",
    "\n",
    "RSpec.describe 'my_help command', type: :aruba do\n",
    "  context 'version option' do\n",
    "    before(:each) { run('my_help version') }\n",
    "    it { expect(last_command_started).to be_successfully_executed }\n",
    "    it { expect(last_command_started).to have_output(\"0.4.5\") }\n",
    "  end\n",
    "\n",
    "  context 'help option' do\n",
    "    expected = <<EXPECTED                                                                                       \n",
    "Commands:                                                                                                       \n",
    "  my_help clean, --clean                  # clean up exe dir.                                                   \n",
    "  my_help delete NAME, --delete NAME      # delete NAME help                                                    \n",
    "  my_help edit NAME, --edit NAME          # edit NAME help(eg test_help)                                        \n",
    "  my_help help [COMMAND]                  # Describe available commands or on...                                \n",
    "  my_help init NAME, --init NAME          # initialize NAME help(eg test_help).                                 \n",
    "  my_help install_local, --install_local  # install local after edit helps                                      \n",
    "  my_help list, --list                    # list specific helps                                                 \n",
    "  my_help make, --make                    # make executables for all helps.                                     \n",
    "  my_help version, -v                     # show program version                                                \n",
    "EXPECTED\n",
    "    before(:each) { run('my_help help') }\n",
    "    it { expect(last_command_started).to be_successfully_executed }\n",
    "    it { expect(last_command_started).to have_output(expected) }\n",
    "  end\n",
    "\n",
    "  context 'init option1' do\n",
    "    before(:each) { run('my_help init') }\n",
    "\n",
    "    expected=<<EXPECTED                                                                                         \n",
    "ERROR: \"my_help init\" was called with no arguments                                                              \n",
    "Usage: \"my_help init NAME, --init NAME\"                                                                         \n",
    "EXPECTED\n",
    "    it { expect(last_command_started).to be_successfully_executed }\n",
    "    it { expect(last_command_started).to have_output(expected.chomp) }\n",
    "  end\n",
    "\n",
    "\n",
    "  context 'edit option' do\n",
    "    expected = <<EXPECTED                                                                                       \n",
    "ERROR: \"my_help edit\" was called with no arguments                                                              \n",
    "Usage: \"my_help edit NAME, --edit NAME\"                                                                         \n",
    "EXPECTED\n",
    "  before(:each) { run('my_help edit') }\n",
    "  it { expect(last_command_started).to be_successfully_executed }\n",
    "  it { expect(last_command_started).to have_output(expected.chomp) }\n",
    "  end\n",
    "\n",
    "  context 'init option2' do\n",
    "    expected = <<EXPECTED                                                                                       \n",
    "ERROR: \"my_help init\" was called with no arguments                                                              \n",
    "Usage: \"my_help init NAME, --init NAME\"                                                                         \n",
    "EXPECTED\n",
    "  before(:each) { run('my_help init') }\n",
    "  it { expect(last_command_started).to be_successfully_executed }\n",
    "  it { expect(last_command_started).to have_output(expected.chomp) }\n",
    "  end\n",
    "=begin                                                                                                          \n",
    "  context 'make option' do                                                                                      \n",
    "    expected = <<EXPECTED                                                                                       \n",
    "\"exe/my_todo\"                                                                                                   \n",
    "#<Errno::ENOENT: No such file or directory @ rb_sysopen - exe/my_todo>                                          \n",
    "EXPECTED                                                                                                        \n",
    "    before(:each) { run('my_help make') }                                                                       \n",
    "    it { expect(last_command_started).to be_successfully_executed }                                             \n",
    "    it { expect(last_command_started).to have_output(expected.chomp) }                                          \n",
    "  end                                                                                                           \n",
    "=end\n",
    "  context 'list option' do\n",
    "    expected = \"Specific help file:\\n  my_todo.yml\\t:my todo\\n  emacs_help.yml\\t:emacsのキーバインド\\n  yagi_he\\\n",
    "lp2\\t:ヘルプのサンプル雛形\\n  test_help.yml\\t:ヘルプのサンプル雛形\\n\"\n",
    "\n",
    "    before(:each) { run('my_help list') }\n",
    "    it { expect(last_command_started).to be_successfully_executed }\n",
    "    it { expect(last_command_started).to have_output(expected.chomp) }\n",
    "  end\n",
    "end\n",
    "\n",
    "```"
   ]
  },
  {
   "cell_type": "markdown",
   "metadata": {},
   "source": [
    "# 問題点（thor版my_help）\n",
    "- initされていないファイルもeditできてしまう\n",
    "\n",
    "    initされていないファイルをeditできないようにする．\n",
    "    もしくはそれをできるようにする．\n",
    "\n",
    "\n",
    "- deleteの処理がおかしい\n",
    "\n",
    "    deleteのコマンドが正常に動作するようにする．\n",
    "    （listから消えるように）"
   ]
  },
  {
   "cell_type": "code",
   "execution_count": null,
   "metadata": {
    "collapsed": true
   },
   "outputs": [],
   "source": []
  }
 ],
 "metadata": {
  "kernelspec": {
   "display_name": "Ruby 2.2.2",
   "language": "ruby",
   "name": "ruby"
  },
  "language_info": {
   "file_extension": ".rb",
   "mimetype": "application/x-ruby",
   "name": "ruby",
   "version": "2.2.2"
  },
  "latex_envs": {
   "LaTeX_envs_menu_present": true,
   "autocomplete": true,
   "bibliofile": "biblio.bib",
   "cite_by": "apalike",
   "current_citInitial": 1,
   "eqLabelWithNumbers": true,
   "eqNumInitial": 1,
   "hotkeys": {
    "equation": "Ctrl-E",
    "itemize": "Ctrl-I"
   },
   "labels_anchors": false,
   "latex_user_defs": false,
   "report_style_numbering": false,
   "user_envs_cfg": false
  },
  "toc": {
   "colors": {
    "hover_highlight": "#DAA520",
    "navigate_num": "#000000",
    "navigate_text": "#333333",
    "running_highlight": "#FF0000",
    "selected_highlight": "#FFD700",
    "sidebar_border": "#EEEEEE",
    "wrapper_background": "#FFFFFF"
   },
   "moveMenuLeft": true,
   "nav_menu": {
    "height": "48px",
    "width": "252px"
   },
   "navigate_menu": true,
   "number_sections": true,
   "sideBar": true,
   "threshold": 4,
   "toc_cell": true,
   "toc_section_display": "block",
   "toc_window_display": true,
   "widenNotebook": false
  }
 },
 "nbformat": 4,
 "nbformat_minor": 2
}
