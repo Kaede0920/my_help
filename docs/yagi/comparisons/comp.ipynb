{
 "cells": [
  {
   "cell_type": "markdown",
   "metadata": {},
   "source": [
    "# repl\n",
    "read execute print loop\n",
    "\n",
    "```ruby\n",
    "require 'optparse'\n",
    "\n",
    "opt = OptionParser.new\n",
    "opt.on('-a', '--add', 'add an item') { puts 'Added' }\n",
    "opt.on('-d', '--del', 'delete an item') { puts 'Deleted' }\n",
    "opt.parse(ARGV)\n",
    "```\n"
   ]
  },
  {
   "cell_type": "code",
   "execution_count": null,
   "metadata": {},
   "outputs": [],
   "source": [
    "#!/usr/bin/ruby                                                                                                 \n",
    "require 'optparse'\n",
    "\n",
    "options = {:name => nil}\n",
    "\n",
    "parser = OptionParser.new do|opts|\n",
    "  opts.on('-n', '--name name', 'Give your own name') do |name|\n",
    "    options[:name] = name;\n",
    "    end\n",
    "\n",
    "  opts.on('-h', '--help', 'Displays Help') do\n",
    "    puts opts\n",
    "    exit\n",
    "    end\n",
    "end\n",
    "\n",
    "parser.parse!\n",
    "\n",
    "sayHello = 'Hello ' + options[:name]\n",
    "\n",
    "puts sayHello"
   ]
  },
  {
   "cell_type": "code",
   "execution_count": 1,
   "metadata": {},
   "outputs": [
    {
     "name": "stderr",
     "output_type": "stream",
     "text": [
      "Could not find command \"kernel\".\n"
     ]
    }
   ],
   "source": [
    "require 'thor'\n",
    "\n",
    "class MyCLI < Thor\n",
    "  desc \"hello NAME\", \"say hello to NAME\"\n",
    "  def hello(name)\n",
    "    puts \"Hello #{name}\"\n",
    "  end\n",
    "end\n",
    "\n",
    "\n",
    "MyCLI.start(ARGV)"
   ]
  },
  {
   "cell_type": "code",
   "execution_count": 1,
   "metadata": {},
   "outputs": [
    {
     "ename": "NameError",
     "evalue": "uninitialized constant Hanami::CLI\nDid you mean?  Hanami::Cli\n               Hanami::CliBase\n               Hanami::CliSubCommands\n               CGI",
     "output_type": "error",
     "traceback": [
      "\u001b[31mNameError\u001b[0m: uninitialized constant Hanami::CLI\nDid you mean?  Hanami::Cli\n               Hanami::CliBase\n               Hanami::CliSubCommands\n               CGI",
      "\u001b[37m<main>:7:in `<module:Commands>'\u001b[0m",
      "\u001b[37m<main>:6:in `<module:CLI>'\u001b[0m",
      "\u001b[37m<main>:5:in `<module:Foo>'\u001b[0m",
      "\u001b[37m<main>:4:in `<main>'\u001b[0m",
      "\u001b[37m/Library/Ruby/Gems/2.3.0/gems/iruby-0.3/lib/iruby/backend.rb:44:in `eval'\u001b[0m",
      "\u001b[37m/Library/Ruby/Gems/2.3.0/gems/iruby-0.3/lib/iruby/backend.rb:44:in `eval'\u001b[0m",
      "\u001b[37m/Library/Ruby/Gems/2.3.0/gems/iruby-0.3/lib/iruby/backend.rb:12:in `eval'\u001b[0m",
      "\u001b[37m/Library/Ruby/Gems/2.3.0/gems/iruby-0.3/lib/iruby/kernel.rb:87:in `execute_request'\u001b[0m",
      "\u001b[37m/Library/Ruby/Gems/2.3.0/gems/iruby-0.3/lib/iruby/kernel.rb:47:in `dispatch'\u001b[0m",
      "\u001b[37m/Library/Ruby/Gems/2.3.0/gems/iruby-0.3/lib/iruby/kernel.rb:37:in `run'\u001b[0m",
      "\u001b[37m/Library/Ruby/Gems/2.3.0/gems/iruby-0.3/lib/iruby/command.rb:70:in `run_kernel'\u001b[0m",
      "\u001b[37m/Library/Ruby/Gems/2.3.0/gems/iruby-0.3/lib/iruby/command.rb:34:in `run'\u001b[0m",
      "\u001b[37m/Library/Ruby/Gems/2.3.0/gems/iruby-0.3/bin/iruby:5:in `<top (required)>'\u001b[0m",
      "\u001b[37m/usr/local/bin/iruby:22:in `load'\u001b[0m",
      "\u001b[37m/usr/local/bin/iruby:22:in `<main>'\u001b[0m"
     ]
    }
   ],
   "source": [
    "#!/usr/bin/env ruby                                                                                             \n",
    "require \"bundler/setup\"\n",
    "require \"hanami/cli\"\n",
    "\n",
    "module Foo\n",
    "  module CLI\n",
    "    module Commands\n",
    "      extend Hanami::CLI::Registry\n",
    "\n",
    "      class Greet < Hanami::CLI::Command\n",
    "\targument :name, required: true, desc: \"The name of the person to greet\"\n",
    "\n",
    "\tdef call(name:, **)\n",
    "          result = \"Hello #{name}\"\n",
    "\n",
    "          puts result\n",
    "\tend\n",
    "      end\n",
    "\n",
    "      register \"hello\", Greet\n",
    "    end\n",
    "  end\n",
    "end\n",
    "\n",
    "Hanami::CLI.new(Foo::CLI::Commands).call"
   ]
  },
  {
   "cell_type": "markdown",
   "metadata": {},
   "source": [
    "# 比較\n",
    ".コード量においてはthorが最も少なく簡潔で分かりやすい．\n",
    "\n",
    ".optparse及びhanamiではヘルプを自作する必要があるが，thorではその必要がなくruby thor.rbとだけ入力するとヘルプを表示する．\n",
    "\n",
    ".ruby optparse.rbと入力するとエラーが表示されるが，ruby hanami.rbでは使用可能なコマンドの一覧が表示される．"
   ]
  },
  {
   "cell_type": "markdown",
   "metadata": {},
   "source": [
    "# hanami\n",
    "\n",
    "hanami.rbのソースコード https://github.com/hanami/cli\n",
    "\n"
   ]
  },
  {
   "cell_type": "code",
   "execution_count": null,
   "metadata": {},
   "outputs": [],
   "source": []
  }
 ],
 "metadata": {
  "kernelspec": {
   "display_name": "Ruby 2.3.3",
   "language": "ruby",
   "name": "ruby"
  },
  "language_info": {
   "file_extension": ".rb",
   "mimetype": "application/x-ruby",
   "name": "ruby",
   "version": "2.3.3"
  }
 },
 "nbformat": 4,
 "nbformat_minor": 2
}
