{
 "cells": [
  {
   "cell_type": "markdown",
   "metadata": {},
   "source": [
    "# RSpecで振る舞いを調べる方法\n",
    "\n",
    "RSpec 振る舞い テスト，など\n",
    "\n",
    "色々ググりましたが有力な情報は出てきませんでした．"
   ]
  },
  {
   "cell_type": "markdown",
   "metadata": {},
   "source": [
    "# ルボコップでコードを改善\n",
    "\n",
    "## auto correct\n",
    "rubocop my_help.rb\n",
    "\n",
    "1 file inspected, 175 offenses detected\n",
    "\n",
    "175個のoffensesが検出された．\n",
    "\n",
    "rubocop -aで一気に19まで減少．\n",
    "\n",
    "## 細かい修正\n",
    "\n",
    "・コメントアウトされているoptparse版のコマンドが怒られていたので削除\n",
    "19から14まで減少．\n",
    "\n",
    "・なんの説明もなしにいきなりclassの記述がされていると怒られたのでclassの説明を記述\n",
    "13に減少．\n",
    "\n",
    "・status,stderrの前にアンダーバーを付けろとの警告\n",
    "アンダーバーをつけることで9に減少．\n"
   ]
  },
  {
   "cell_type": "markdown",
   "metadata": {},
   "source": [
    "# Thorでサブコマンドを自動登録する方法\n",
    "\n",
    "optparseならoptを何度も呼び出せるが，\n",
    "Thorのメソッドは何度も呼び出せない．\n",
    "\n",
    "## サブサブコマンド\n",
    "サブサブコマンドを使うことで可能になるかもしれない．\n",
    "\n",
    "さらに言うと，ymlからサブコマンドとして呼び出す用のクラスを書ければいけるかもしれない．\n",
    "\n",
    "\n",
    "## 問題点\n",
    "・サブサブコマンドまで必要になる\n",
    "\n",
    "・コードが複雑になる\n",
    "\n",
    "・ファイルが増える"
   ]
  },
  {
   "cell_type": "code",
   "execution_count": null,
   "metadata": {
    "collapsed": true
   },
   "outputs": [],
   "source": []
  },
  {
   "cell_type": "code",
   "execution_count": null,
   "metadata": {
    "collapsed": true
   },
   "outputs": [],
   "source": []
  }
 ],
 "metadata": {
  "kernelspec": {
   "display_name": "Ruby 2.3.3",
   "language": "ruby",
   "name": "ruby"
  },
  "language_info": {
   "file_extension": ".rb",
   "mimetype": "application/x-ruby",
   "name": "ruby",
   "version": "2.3.3"
  }
 },
 "nbformat": 4,
 "nbformat_minor": 2
}
