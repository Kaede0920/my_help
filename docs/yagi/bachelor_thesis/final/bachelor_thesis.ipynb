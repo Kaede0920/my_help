{
 "cells": [
  {
   "cell_type": "markdown",
   "metadata": {
    "toc": "true"
   },
   "source": [
    "# Table of Contents\n",
    " <p><div class=\"lev1 toc-item\"><a href=\"#はじめに\" data-toc-modified-id=\"はじめに-1\"><span class=\"toc-item-num\">1&nbsp;&nbsp;</span>はじめに</a></div><div class=\"lev2 toc-item\"><a href=\"#目的\" data-toc-modified-id=\"目的-11\"><span class=\"toc-item-num\">1.1&nbsp;&nbsp;</span>目的</a></div><div class=\"lev1 toc-item\"><a href=\"#基本的事項\" data-toc-modified-id=\"基本的事項-2\"><span class=\"toc-item-num\">2&nbsp;&nbsp;</span>基本的事項</a></div><div class=\"lev2 toc-item\"><a href=\"#my_help\" data-toc-modified-id=\"my_help-21\"><span class=\"toc-item-num\">2.1&nbsp;&nbsp;</span>my_help</a></div><div class=\"lev3 toc-item\"><a href=\"#コマンド\" data-toc-modified-id=\"コマンド-211\"><span class=\"toc-item-num\">2.1.1&nbsp;&nbsp;</span>コマンド</a></div><div class=\"lev2 toc-item\"><a href=\"#optparse\" data-toc-modified-id=\"optparse-22\"><span class=\"toc-item-num\">2.2&nbsp;&nbsp;</span>optparse</a></div><div class=\"lev2 toc-item\"><a href=\"#thor\" data-toc-modified-id=\"thor-23\"><span class=\"toc-item-num\">2.3&nbsp;&nbsp;</span>thor</a></div><div class=\"lev2 toc-item\"><a href=\"#awesome\" data-toc-modified-id=\"awesome-24\"><span class=\"toc-item-num\">2.4&nbsp;&nbsp;</span>awesome</a></div><div class=\"lev1 toc-item\"><a href=\"#研究内容\" data-toc-modified-id=\"研究内容-3\"><span class=\"toc-item-num\">3&nbsp;&nbsp;</span>研究内容</a></div><div class=\"lev2 toc-item\"><a href=\"#thor化に伴う書き換え（具体的な作業）\" data-toc-modified-id=\"thor化に伴う書き換え（具体的な作業）-31\"><span class=\"toc-item-num\">3.1&nbsp;&nbsp;</span>thor化に伴う書き換え（具体的な作業）</a></div><div class=\"lev2 toc-item\"><a href=\"#thorによるサブコマンド\" data-toc-modified-id=\"thorによるサブコマンド-32\"><span class=\"toc-item-num\">3.2&nbsp;&nbsp;</span>thorによるサブコマンド</a></div><div class=\"lev2 toc-item\"><a href=\"#thorで実装できない部分と対処\" data-toc-modified-id=\"thorで実装できない部分と対処-33\"><span class=\"toc-item-num\">3.3&nbsp;&nbsp;</span>thorで実装できない部分と対処</a></div><div class=\"lev1 toc-item\"><a href=\"#比較\" data-toc-modified-id=\"比較-4\"><span class=\"toc-item-num\">4&nbsp;&nbsp;</span>比較</a></div><div class=\"lev1 toc-item\"><a href=\"#総括\" data-toc-modified-id=\"総括-5\"><span class=\"toc-item-num\">5&nbsp;&nbsp;</span>総括</a></div>"
   ]
  },
  {
   "cell_type": "markdown",
   "metadata": {},
   "source": [
    "# はじめに\n",
    "\n",
    "## 目的\n",
    "\n",
    "* my_helpの説明は？\n",
    "\n",
    "my helpの振る舞いを制御しているサブコマンドは，マイナスを付した省略記法が取られている．プログラミング初心者にとってこの省略記法は，覚えにくかったりわかりにくかったりするという問題があり，現在はフルワードを使った自然言語に近い記述法が多く用いられている．\n",
    "\n",
    "コマンドは単機能であるべき．\n",
    "しかし，最近は複雑な機能を持つコマンドが増加している．そのようなコマンドは，サブコマンドを使用することで適切な動作を実行することが可能になる．例えばgitコマンドはサブコマンドなしでは意味をなさない．サブコマンドでどのような動作をするかが決まるので，サブコマンドを入力することで正常に動作するのである[根拠？]．\n",
    "\n",
    "そこで，本研究ではコマンドラインツール作成ライブラリを自然言語に近いサブコマンド体系を実装しやすいライブラリであるThorに変更する．rubyの標準ライブラリであるoptparseで作成されているmy helpを，Thor[1] によって書き直し，異なった2つライブラリで作成されたmy helpの使用感を比較検討することを目的とする．\n"
   ]
  },
  {
   "cell_type": "markdown",
   "metadata": {},
   "source": [
    "# 基本的事項\n",
    "\n",
    "## my_help\n",
    "\n",
    "my helpとは，ユーザー独自のマニュアルを作成することができるユーザメモソフトである．これは，terminalだけを用いて簡単に起動，編集，削除などをすることができるため，非常に便利である．さらに，そのマニュアルは自分ですぐに編集，参照することができるので，メモとしての機能も果たし ている．これにより，プログラミング初心者が，頻繁に使うコマンドやキーバインドなどをいちいちweb browserを立ち上げて調べるのではなく，terminal上で即座に取得できるため，プログラム開発を集中することが期待される．\n",
    "\n",
    "また，正式なマニュアルは英語で書かれていることが多く，初心者には理解するのが困難である．my_helpを使用すれば，自分なりのマニュアルを作成することができるので，仕様を噛み砕いて理解することができる．tarminal上でいつでもメモを参照できるため，どこにメモをしたかを忘れるリスクも軽減される\n",
    "\n",
    "しかし，my helpにある問題のうちの一つとして挙げられるのがサブコマンドの記述法である．"
   ]
  },
  {
   "cell_type": "markdown",
   "metadata": {},
   "source": [
    "### コマンド\n",
    "\n",
    "clean\n",
    "exeディレクトリの中のファイルを全て削除する．\n",
    "\n",
    "delete NAME\n",
    "NAMEのメモを削除する．\n",
    "\n",
    "edit NAME\n",
    "NAMEのメモを編集する．\n",
    "\n",
    "help COMAND\n",
    "COMANDのヘルプを表示する．\n",
    "\n",
    "init NAME \n",
    "\n",
    "install_local \n",
    "\n",
    "list\n",
    "メモのリストを表示する\n",
    "\n",
    "make \n",
    "新しいメモを作成する．\n",
    "\n",
    "version\n",
    "my_helpのバージョンを表示する．"
   ]
  },
  {
   "cell_type": "markdown",
   "metadata": {},
   "source": [
    "## optparse\n",
    "\n",
    "今回の研究対象のmy helpは，optparseで実装されているので，その概要をここで記す．optparseが操作するオプションは，下記のonメソッドで設定する．\n",
    "\n",
    "```\n",
    "def execute\n",
    "  @argv << ’--help’ if @argv.size==0\n",
    "  command_parser = OptionParser.new do |opt|\n",
    "    opt.on(’-v’, ’--version’,’show␣program␣Version.’ ) { |v|\n",
    "      opt.version = MyHelp::VERSION\n",
    "      puts opt.ver\n",
    "    }\n",
    "    opt.on(’-l’, ’--list’, ’list␣specific␣helps’){list_helps}\n",
    "    中略\n",
    "  end\n",
    "  中略\n",
    "end\n",
    "    \n",
    "def list_helps\n",
    "中略\n",
    "end\n",
    "後略\n",
    "```\n",
    "\n",
    "同様にして，第2引数はロングオプションを表し，--addや--deleteのように，第3引数はそのオプションの説明文で，helpで表示される説明文を設定する．後ろのブロックには，そのオプションが指定された場合に実行されるコードを記述する [2]．しかしこのライブラリでは自然言語に近いサブコマンドを実装するには相当な書き換えが必要となる．\n",
    "\n",
    "ロングオプションのサブコマンドを作成する場合，上のように-（ダッシュ）を２つ，先頭につける必要がある．no-を先頭につけることで，否定型のオプションを作成することも可能．\n",
    "\n",
    "helpとversionのサブコマンドはデフォルトで作成される．\n",
    "\n",
    "\n",
    "参考になりそうなところを見てoptparseについての説明．\n",
    "長所短所．thorの長所短所と比較して図．あらかじめ描いてもいい．\n",
    "\n",
    "\n",
    "## thor\n",
    "\n",
    "上と同じ．\n",
    "\n",
    "本研究ではoptparseの代わりのライブラリとしてThorの採用を検討する．Thorは，コマンドラインツールの作成を支援するライブラリであり，gitやbundlerのようにサブコマンドを含むコマンドラインツールを簡単に作成することができる [3]．Thorには以下のような特徴がある．\n",
    "1. コマンドラインオプションのパーズやサブコマンドごとのヘルプを作るなどの面倒な作業を簡単にこなすことができ，手早くビルドツールや実行可能なコマンドを作成できる [4]．\n",
    "1. 特殊なDSL(Domain Specific Language)を使わずにメソッドを定義することで処理を記述するため，テストを行いやすい [4]．\n",
    "1. optparseでは作成することが困難な，マイナスを伴わない(自然言語に近い)サブコマンドを実装することが可能である．\n",
    "\n",
    "長所短所と説明．optparseと同じく．\n",
    "なんでthorなのか，動機，根拠．サブコマンドとか．\n",
    "論理的に言えるように．\n",
    "\n",
    "Thorではクラスを作ったらメソッドがそのままサブコマンドの処理になるので便利．optparseではそれができないので不便．\n",
    "\n",
    "## awesome\n",
    "\n",
    "ここにawesomeの和訳を入れても良い．"
   ]
  },
  {
   "cell_type": "markdown",
   "metadata": {},
   "source": [
    "# 研究内容\n",
    "\n",
    "## thor化に伴う書き換え（具体的な作業）\n",
    "ここは汎用的にどう書き換えたらthor化できるかまとめてると良さそう．\n",
    "苦労した事とか書くといい．\n",
    "\n",
    "どうゆう書き換えを行ったのか．\n",
    "thor化しようと思ったら\n",
    "どうゆう流れでコマンドが呼び出されているか．（optとthor）\n",
    "\n",
    "\n",
    "optparseからthorへの書き換えの際，必要となるのはオプションの再定義．optparseの場合，opt.onを用いてオプションの定義を行い，引数にはそのオプションの定義と説明を設定する．その部分をthorに対応させることが書き換えの第一段階である．\n",
    "\n",
    "thorでは，thorを継承したクラスを作成し，その中でdesc（そのオプションの説明）とdef（そのオプションの定義）を記述する．\n",
    "\n",
    "## thorによるサブコマンド\n",
    "\n",
    "## thorで実装できない部分と対処\n",
    "optparseとthorの両立に成功したので，それに触れる．ここ真剣に．\n",
    "\n",
    "# 比較\n",
    "\n",
    "ここでoptparseとthorの比較をする．\n"
   ]
  },
  {
   "cell_type": "markdown",
   "metadata": {},
   "source": [
    "# 総括"
   ]
  },
  {
   "cell_type": "code",
   "execution_count": null,
   "metadata": {
    "collapsed": true
   },
   "outputs": [],
   "source": []
  }
 ],
 "metadata": {
  "kernelspec": {
   "display_name": "Ruby 2.2.2",
   "language": "ruby",
   "name": "ruby"
  },
  "language_info": {
   "file_extension": ".rb",
   "mimetype": "application/x-ruby",
   "name": "ruby",
   "version": "2.2.2"
  },
  "latex_envs": {
   "LaTeX_envs_menu_present": true,
   "autocomplete": true,
   "bibliofile": "biblio.bib",
   "cite_by": "apalike",
   "current_citInitial": 1,
   "eqLabelWithNumbers": true,
   "eqNumInitial": 1,
   "hotkeys": {
    "equation": "Ctrl-E",
    "itemize": "Ctrl-I"
   },
   "labels_anchors": false,
   "latex_user_defs": false,
   "report_style_numbering": false,
   "user_envs_cfg": false
  },
  "toc": {
   "colors": {
    "hover_highlight": "#DAA520",
    "navigate_num": "#000000",
    "navigate_text": "#333333",
    "running_highlight": "#FF0000",
    "selected_highlight": "#FFD700",
    "sidebar_border": "#EEEEEE",
    "wrapper_background": "#FFFFFF"
   },
   "moveMenuLeft": true,
   "nav_menu": {},
   "navigate_menu": true,
   "number_sections": true,
   "sideBar": true,
   "skip_h1_title": false,
   "threshold": 4,
   "toc_cell": true,
   "toc_position": {},
   "toc_section_display": "none",
   "toc_window_display": true,
   "widenNotebook": false
  }
 },
 "nbformat": 4,
 "nbformat_minor": 2
}
