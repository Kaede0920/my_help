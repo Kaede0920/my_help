{
 "cells": [
  {
   "cell_type": "markdown",
   "metadata": {
    "toc": "true"
   },
   "source": [
    "# Table of Contents\n",
    " <p><div class=\"lev1 toc-item\"><a href=\"#README\" data-toc-modified-id=\"README-1\"><span class=\"toc-item-num\">1&nbsp;&nbsp;</span>README</a></div><div class=\"lev1 toc-item\"><a href=\"#todo\" data-toc-modified-id=\"todo-2\"><span class=\"toc-item-num\">2&nbsp;&nbsp;</span>todo</a></div>"
   ]
  },
  {
   "cell_type": "markdown",
   "metadata": {},
   "source": [
    "# README\n",
    "\n",
    "* [diff_against_org-mode](./diff_against_org-mode.ipynb)\n",
    "* [emacs_help](./emacs_help.ipynb)\n",
    "* [template_help](./template_help.ipynb)"
   ]
  },
  {
   "cell_type": "markdown",
   "metadata": {
    "collapsed": true
   },
   "source": [
    "# todo\n",
    "* TODO org-mode_helpをつくる\n",
    "   * M-x org-mode\n",
    "  * TODOと書く\n",
    "  * c-c c-tでTODO->DONE-> no titleと変遷(trans)\n",
    "  * c-iでoutline的に出したり，入れたり．\n",
    "* Daily\n",
    "  * TODO fixとfullrelaxを同時に作っていいやん！！いらんかったら後で消せばいい．\n",
    "  * TODO RSpec, cucumberのPart2を読み切る\n",
    "  * TODO org-mode_helpをつくってしばらく使ってみる．\n"
   ]
  },
  {
   "cell_type": "code",
   "execution_count": null,
   "metadata": {
    "collapsed": true
   },
   "outputs": [],
   "source": []
  }
 ],
 "metadata": {
  "kernelspec": {
   "display_name": "Ruby 2.2.2",
   "language": "ruby",
   "name": "ruby"
  },
  "language_info": {
   "file_extension": ".rb",
   "mimetype": "application/x-ruby",
   "name": "ruby",
   "version": "2.2.2"
  },
  "latex_envs": {
   "LaTeX_envs_menu_present": true,
   "autocomplete": true,
   "bibliofile": "biblio.bib",
   "cite_by": "apalike",
   "current_citInitial": 1,
   "eqLabelWithNumbers": true,
   "eqNumInitial": 1,
   "hotkeys": {
    "equation": "Ctrl-E",
    "itemize": "Ctrl-I"
   },
   "labels_anchors": false,
   "latex_user_defs": false,
   "report_style_numbering": false,
   "user_envs_cfg": false
  },
  "toc": {
   "colors": {
    "hover_highlight": "#DAA520",
    "navigate_num": "#000000",
    "navigate_text": "#333333",
    "running_highlight": "#FF0000",
    "selected_highlight": "#FFD700",
    "sidebar_border": "#EEEEEE",
    "wrapper_background": "#FFFFFF"
   },
   "moveMenuLeft": true,
   "nav_menu": {
    "height": "13px",
    "width": "253px"
   },
   "navigate_menu": true,
   "number_sections": true,
   "sideBar": true,
   "threshold": 4,
   "toc_cell": true,
   "toc_section_display": "block",
   "toc_window_display": true,
   "widenNotebook": false
  }
 },
 "nbformat": 4,
 "nbformat_minor": 2
}
