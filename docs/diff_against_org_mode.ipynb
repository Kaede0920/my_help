{
 "cells": [
  {
   "cell_type": "markdown",
   "metadata": {
    "toc": "true"
   },
   "source": [
    "# Table of Contents\n",
    " <p><div class=\"lev1 toc-item\"><a href=\"#emacsのorg-modeとかぶるところがたくさんある．\" data-toc-modified-id=\"emacsのorg-modeとかぶるところがたくさんある．-1\"><span class=\"toc-item-num\">1&nbsp;&nbsp;</span>emacsのorg-modeとかぶるところがたくさんある．</a></div><div class=\"lev2 toc-item\"><a href=\"#共通点\" data-toc-modified-id=\"共通点-11\"><span class=\"toc-item-num\">1.1&nbsp;&nbsp;</span>共通点</a></div><div class=\"lev2 toc-item\"><a href=\"#相違点\" data-toc-modified-id=\"相違点-12\"><span class=\"toc-item-num\">1.2&nbsp;&nbsp;</span>相違点</a></div>"
   ]
  },
  {
   "cell_type": "markdown",
   "metadata": {},
   "source": [
    "# emacsのorg-modeとかぶるところがたくさんある．\n",
    "\n",
    "## 共通点\n",
    "- 軽い，\n",
    "- 保存場所の共通化でどこでも立ち上がる\n",
    "- 標準(mark dowon)的な記述言語\n",
    "- todoとmemoが同じ環境\n",
    "- カラー表示\n",
    "- emacsでの編集\n",
    "- リスト，バックアップ，\n",
    "などだれでも考えることは同じなんや．\n",
    "\n",
    "でも，\n",
    "\n",
    "## 相違点\n",
    "1. shellかemacsか\n",
    "1. emacs以外で使える\n",
    "1. org-mode独自のコマンドを覚えなくても使える\n",
    "1. rubyでのcoding\n",
    "1. ymlデータの共有\n",
    "なんかがあります．\n",
    "\n",
    "つまり，my_helpの使用想定としては，\n",
    "- emacsを使いたくないexpert\n",
    "- org-modeを覚えていないnovice\n",
    "- memoなんかをチューンアップしたいrubyist\n",
    "というところです．\n",
    "\n",
    "まあ，my_help開発に全く意義がないと否定しないでください．\n",
    "これらの人を対象として，\n",
    "- EDITOR設定を反映\n",
    "- orgへのymlからの変換機能の提供\n",
    "- githubでの公開\n",
    "を行っています．\n"
   ]
  },
  {
   "cell_type": "code",
   "execution_count": null,
   "metadata": {
    "collapsed": true
   },
   "outputs": [],
   "source": []
  }
 ],
 "metadata": {
  "kernelspec": {
   "display_name": "Ruby 2.2.2",
   "language": "ruby",
   "name": "ruby"
  },
  "language_info": {
   "file_extension": ".rb",
   "mimetype": "application/x-ruby",
   "name": "ruby",
   "version": "2.2.2"
  },
  "latex_envs": {
   "LaTeX_envs_menu_present": true,
   "autocomplete": true,
   "bibliofile": "biblio.bib",
   "cite_by": "apalike",
   "current_citInitial": 1,
   "eqLabelWithNumbers": true,
   "eqNumInitial": 1,
   "hotkeys": {
    "equation": "Ctrl-E",
    "itemize": "Ctrl-I"
   },
   "labels_anchors": false,
   "latex_user_defs": false,
   "report_style_numbering": false,
   "user_envs_cfg": false
  },
  "toc": {
   "colors": {
    "hover_highlight": "#DAA520",
    "navigate_num": "#000000",
    "navigate_text": "#333333",
    "running_highlight": "#FF0000",
    "selected_highlight": "#FFD700",
    "sidebar_border": "#EEEEEE",
    "wrapper_background": "#FFFFFF"
   },
   "moveMenuLeft": true,
   "nav_menu": {
    "height": "67px",
    "width": "252px"
   },
   "navigate_menu": true,
   "number_sections": true,
   "sideBar": true,
   "threshold": 4,
   "toc_cell": true,
   "toc_section_display": "block",
   "toc_window_display": true,
   "widenNotebook": false
  }
 },
 "nbformat": 4,
 "nbformat_minor": 2
}
