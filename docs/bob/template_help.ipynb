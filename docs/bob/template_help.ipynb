{
 "cells": [
  {
   "cell_type": "markdown",
   "metadata": {
    "toc": "true"
   },
   "source": [
    "# Table of Contents\n",
    " <p><div class=\"lev1 toc-item\"><a href=\"#template_helpの出力結果\" data-toc-modified-id=\"template_helpの出力結果-1\"><span class=\"toc-item-num\">1&nbsp;&nbsp;</span>template_helpの出力結果</a></div><div class=\"lev1 toc-item\"><a href=\"#template_helpの中身\" data-toc-modified-id=\"template_helpの中身-2\"><span class=\"toc-item-num\">2&nbsp;&nbsp;</span>template_helpの中身</a></div>"
   ]
  },
  {
   "cell_type": "markdown",
   "metadata": {},
   "source": [
    "# template_helpの出力結果\n",
    "\n",
    "``` ruby\n",
    "bob% bundle exec exe/template_help --to_hiki\n",
    "ヘルプのサンプル雛形.\n",
    "headに常に表示される内容を記述.\n",
    "---\n",
    "<<<\n",
    "  ヘルプのサンプル雛形.\n",
    "  headに常に表示される内容を記述.\n",
    "単元\n",
    "  c-f, move Forwrard,    前or右へ\n",
    "  フォーマットは自由です.\n",
    "単元2\n",
    "  c-f, move Forwrard,    前or右へ\n",
    "  フォーマットは自由です.\n",
    "```\n",
    "\n",
    "# template_helpの中身\n",
    "helpの実態は~/.my_helpに保存されたYAML形式のfileです．書き方はコメントを参照ください．\n",
    "\n",
    "```ruby\n",
    "---\n",
    "#start header, which appears every time.\n",
    ":head:         #never change\n",
    "- ヘルプのサンプル雛形               #describe the contents breafly.\n",
    "- \"  headに常に表示される内容を記述\" #head '- ' is necessary\n",
    ":license:         #never change\n",
    "- \"     cc by Shigeto R. Nishitani, 2016\"  #show licence\n",
    "# start the first item\n",
    ":item:         #change snake word\n",
    "  :opts:          #never change\n",
    "    :short: -i      #change short option\n",
    "    :long: --item   #change long option\n",
    "    :desc: 単元(item) #describe what for in help list\n",
    "  :title: 単元  #describe what for in each help\n",
    "  :cont:              #the following lines are appeared.\n",
    "  - c-f, move Forwrard,    前or右へ  #top '  - ' are necessary for yaml format\n",
    "  - フォーマットは自由です. \n",
    "\n",
    "# start the second item... and so on.\n",
    ":item2: \n",
    "  :opts: \n",
    "    :short: -j\n",
    "    :long: --item2\n",
    "    :desc: 単元2(item2)\n",
    "  :title: 単元2\n",
    "  :cont:\n",
    "  - c-f, move Forwrard,    前or右へ\n",
    "  - フォーマットは自由です. \n",
    "```\n"
   ]
  },
  {
   "cell_type": "code",
   "execution_count": null,
   "metadata": {
    "collapsed": true
   },
   "outputs": [],
   "source": []
  }
 ],
 "metadata": {
  "kernelspec": {
   "display_name": "Ruby 2.2.2",
   "language": "ruby",
   "name": "ruby"
  },
  "language_info": {
   "file_extension": ".rb",
   "mimetype": "application/x-ruby",
   "name": "ruby",
   "version": "2.2.2"
  },
  "latex_envs": {
   "LaTeX_envs_menu_present": true,
   "autocomplete": true,
   "bibliofile": "biblio.bib",
   "cite_by": "apalike",
   "current_citInitial": 1,
   "eqLabelWithNumbers": true,
   "eqNumInitial": 1,
   "hotkeys": {
    "equation": "Ctrl-E",
    "itemize": "Ctrl-I"
   },
   "labels_anchors": false,
   "latex_user_defs": false,
   "report_style_numbering": false,
   "user_envs_cfg": false
  },
  "toc": {
   "colors": {
    "hover_highlight": "#DAA520",
    "navigate_num": "#000000",
    "navigate_text": "#333333",
    "running_highlight": "#FF0000",
    "selected_highlight": "#FFD700",
    "sidebar_border": "#EEEEEE",
    "wrapper_background": "#FFFFFF"
   },
   "moveMenuLeft": true,
   "nav_menu": {
    "height": "48px",
    "width": "253px"
   },
   "navigate_menu": true,
   "number_sections": true,
   "sideBar": true,
   "threshold": 4,
   "toc_cell": true,
   "toc_section_display": "block",
   "toc_window_display": true,
   "widenNotebook": false
  }
 },
 "nbformat": 4,
 "nbformat_minor": 2
}
