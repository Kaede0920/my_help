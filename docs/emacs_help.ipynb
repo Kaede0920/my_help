{
 "cells": [
  {
   "cell_type": "markdown",
   "metadata": {
    "toc": "true"
   },
   "source": [
    "# Table of Contents\n",
    " <p><div class=\"lev1 toc-item\"><a href=\"#emacs_help\" data-toc-modified-id=\"emacs_help-1\"><span class=\"toc-item-num\">1&nbsp;&nbsp;</span>emacs_help</a></div>"
   ]
  },
  {
   "cell_type": "markdown",
   "metadata": {},
   "source": [
    "# emacs_help\n",
    "\n",
    "```\n",
    "  emacsのキーバインド\n",
    "  \n",
    "特殊キー操作\n",
    "    c-f, controlキーを押しながら    'f'\n",
    "    M-f, escキーを押した後一度離して'f'\n",
    "      操作の中断c-g, 操作の取り消し(Undo) c-x u\n",
    "       cc by Shigeto R. Nishitani, 2016\n",
    "カーソル移動cursor\n",
    "  c-f, move Forwrard,    前or右へ\n",
    "  c-b, move Backwrard,   後or左へ\n",
    "  c-a, go Ahead of line, 行頭へ\n",
    "  c-e, go End of line,   行末へ\n",
    "  c-n, move Next line,   次行へ\n",
    "  c-p, move Previous line, 前行へ\n",
    "ページ移動page\n",
    "  c-v, move Vertical,          次のページへ\n",
    "  M-v, move reversive Vertical,前のページへ\n",
    "  c-l, centerise Line,       現在行を中心に\n",
    "  M-<, move Top of file,    ファイルの先頭へ\n",
    "  M->, move Bottom of file, ファイルの最後尾へ\n",
    "ファイル操作file\n",
    "  c-x c-f, Find file, ファイルを開く\n",
    "  c-x c-s, Save file, ファイルを保存\n",
    "  c-x c-w, Write file NAME, ファイルを別名で書き込む\n",
    "編集操作edit\n",
    "  c-d, Delete char, 一字削除\n",
    "  c-k, Kill line,   一行抹消，カット\n",
    "  c-y, Yank,        ペースト\n",
    "  c-w, Kill region, 領域抹消，カット\n",
    "  領域選択は，先頭or最後尾でc-spaceした後，最後尾or先頭へカーソル移動\n",
    "  c-s, forward incremental Search WORD, 前へWORDを検索\n",
    "  c-r, Reverse incremental search WORD, 後へWORDを検索\n",
    "  M-x query-replace WORD1 <ret> WORD2：対話的置換(y or nで可否選択)\n",
    "ウィンドウ操作window\n",
    "  c-x 2, 2 windows, 二つに分割\n",
    "  c-x 1, 1 windows, 一つに戻す\n",
    "  c-x 3, 3rd window sep,縦線分割\n",
    "  c-x o, Other windows, 次の画面へ移動\n",
    "バッファー操作buffer(すでにopenしてemacsにバッファーされたfile)\n",
    "  c-x b, show Buffer,   バッファのリスト\n",
    "  c-x c-b, next Buffer, 次のバッファへ移動\n",
    "終了操作quit\n",
    "  c-x c-c, Quit emacs, ファイルを保存して終了\n",
    "  c-z, suspend emacs,  一時停止，fgで復活\n",
    "```"
   ]
  },
  {
   "cell_type": "code",
   "execution_count": null,
   "metadata": {
    "collapsed": true
   },
   "outputs": [],
   "source": []
  }
 ],
 "metadata": {
  "kernelspec": {
   "display_name": "Ruby 2.2.2",
   "language": "ruby",
   "name": "ruby"
  },
  "language_info": {
   "file_extension": ".rb",
   "mimetype": "application/x-ruby",
   "name": "ruby",
   "version": "2.2.2"
  },
  "latex_envs": {
   "LaTeX_envs_menu_present": true,
   "autocomplete": true,
   "bibliofile": "biblio.bib",
   "cite_by": "apalike",
   "current_citInitial": 1,
   "eqLabelWithNumbers": true,
   "eqNumInitial": 1,
   "hotkeys": {
    "equation": "Ctrl-E",
    "itemize": "Ctrl-I"
   },
   "labels_anchors": false,
   "latex_user_defs": false,
   "report_style_numbering": false,
   "user_envs_cfg": false
  },
  "toc": {
   "colors": {
    "hover_highlight": "#DAA520",
    "navigate_num": "#000000",
    "navigate_text": "#333333",
    "running_highlight": "#FF0000",
    "selected_highlight": "#FFD700",
    "sidebar_border": "#EEEEEE",
    "wrapper_background": "#FFFFFF"
   },
   "moveMenuLeft": true,
   "nav_menu": {
    "height": "31px",
    "width": "253px"
   },
   "navigate_menu": true,
   "number_sections": true,
   "sideBar": true,
   "threshold": 4,
   "toc_cell": true,
   "toc_section_display": "block",
   "toc_window_display": true,
   "widenNotebook": false
  }
 },
 "nbformat": 4,
 "nbformat_minor": 2
}
